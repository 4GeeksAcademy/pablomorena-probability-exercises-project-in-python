{
 "cells": [
  {
   "cell_type": "markdown",
   "id": "a41f3622",
   "metadata": {},
   "source": [
    "# Ejercicios de probabilidad"
   ]
  },
  {
   "cell_type": "markdown",
   "id": "a6bdbd89",
   "metadata": {},
   "source": [
    "## Ejercicio 1 \n",
    "\n",
    "Dos dados se lanzan una vez y se observa el total obtenido. Usa una simulación para encontrar la probabilidad estimada de que la puntuación sea mayor a 7 o un número par. Una simulación es una repetición del mismo experimento multiples veces para observar su comportamiento:\n",
    "\n",
    "- Ejecuta el experimento 1000 veces (lanza 2 dados 1000 veces, y suma el número de ambos dados).\n",
    "- Lleva ua cuenta de los números y las veces que la suma fue mayor a 7 o un número par.\n",
    "- Divide el número del paso 2 entre el número de iteraciones(1000)."
   ]
  },
  {
   "cell_type": "code",
   "execution_count": 107,
   "id": "8939d892",
   "metadata": {},
   "outputs": [
    {
     "name": "stdout",
     "output_type": "stream",
     "text": [
      "La suma de los 1000 lanzamientos con las condiciones descritas es: 67.60000000000001%\n"
     ]
    }
   ],
   "source": [
    "# TODO\n",
    "import numpy as np\n",
    "import random\n",
    "\n",
    "contador1 = 0\n",
    "\n",
    "for i in range(0,1000):\n",
    "    dado1 = random.randint(1, 6)\n",
    "    dado2 = random.randint(1, 6)\n",
    "    suma_dados = dado1+dado2\n",
    "    if suma_dados >7 or suma_dados %2 ==0:\n",
    "        contador1 += 1\n",
    "contador2= (contador1/1000)*100\n",
    "\n",
    "print(f\"La suma de los 1000 lanzamientos con las condiciones descritas es: {contador2}%\")"
   ]
  },
  {
   "cell_type": "markdown",
   "id": "55732bca",
   "metadata": {},
   "source": [
    "## Ejercicio 2\n",
    "\n",
    "Una caja contiene 10 bolas blancas, 20 bolas rojas y 30 bolas verdes. Si tomamos 5 bolas de la caja reemplazándolas (tomando una bola, anotando el color y luego regresandola a la caja). Queremos saber la probabilidad de:\n",
    "\n",
    "1. Tomar 3 blancas y 2 rojas.\n",
    "2. Toas todas del mismo color.\n",
    "\n",
    "Ejecuta el experimento 1000 veces y calcula las probabilidades que mencionadas."
   ]
  },
  {
   "cell_type": "code",
   "execution_count": 26,
   "id": "23244d20",
   "metadata": {},
   "outputs": [
    {
     "name": "stdout",
     "output_type": "stream",
     "text": [
      "{0: 'White', 1: 'White', 2: 'White', 3: 'White', 4: 'White', 5: 'White', 6: 'White', 7: 'White', 8: 'White', 9: 'White', 10: 'Red', 11: 'Red', 12: 'Red', 13: 'Red', 14: 'Red', 15: 'Red', 16: 'Red', 17: 'Red', 18: 'Red', 19: 'Red', 20: 'Red', 21: 'Red', 22: 'Red', 23: 'Red', 24: 'Red', 25: 'Red', 26: 'Red', 27: 'Red', 28: 'Red', 29: 'Red', 30: 'Green', 31: 'Green', 32: 'Green', 33: 'Green', 34: 'Green', 35: 'Green', 36: 'Green', 37: 'Green', 38: 'Green', 39: 'Green', 40: 'Green', 41: 'Green', 42: 'Green', 43: 'Green', 44: 'Green', 45: 'Green', 46: 'Green', 47: 'Green', 48: 'Green', 49: 'Green', 50: 'Green', 51: 'Green', 52: 'Green', 53: 'Green', 54: 'Green', 55: 'Green', 56: 'Green', 57: 'Green', 58: 'Green', 59: 'Green'}\n",
      "La probabilidad de sacar 3 bolas blancas y 2 bolas rojas es de 0.5%\n",
      "La probabilidad de sacar las 5 bolas del mismo color es de 0.068%\n"
     ]
    }
   ],
   "source": [
    "import numpy as np\n",
    "import random\n",
    "\n",
    "ball_box = {}\n",
    "\n",
    "# Crea la cajas con las bolas\n",
    "for i in range(60):\n",
    "    if i < 10:\n",
    "        ball_box[i] = \"White\"\n",
    "    elif (i > 9) and (i < 30):\n",
    "        ball_box[i] = \"Red\"\n",
    "    else:\n",
    "        ball_box[i] = \"Green\"\n",
    "\n",
    "print(ball_box)\n",
    "     \n",
    "# TODO\n",
    "\n",
    "def experimento(num_ejecucion = 1000): #Creamos la funcion del experimento\n",
    "    cont1 = 0 #Contador del primer resultado a obtener\n",
    "    cont2 = 0 #Contador del segundo resultado a obtener\n",
    "    for i in range(num_ejecucion): #Vamos a recoger las combinaciones que salen 1000 veces de seleccionar 5 bolas\n",
    "        cesta = []\n",
    "        for i in range(5):\n",
    "            cesta.append(ball_box[np.random.randint(0, 59)])\n",
    "        cesta = np.array(cesta)\n",
    "\n",
    "        blancas = sum(cesta == \"White\")\n",
    "        rojas =  sum(cesta == \"Red\")\n",
    "        verdes = sum(cesta == \"Green\")\n",
    "\n",
    "        if blancas == 3 and rojas ==2:\n",
    "            cont1 += 1\n",
    "        if blancas == 5 or rojas ==5 or verdes == 5:\n",
    "            cont2 +=2\n",
    "    resultado1 = (cont1/num_ejecucion)*100\n",
    "    resultado2 = cont2/num_ejecucion\n",
    "    return resultado1, resultado2\n",
    "\n",
    "resultado1, resultado2 = experimento()\n",
    "print(\"La probabilidad de sacar 3 bolas blancas y 2 bolas rojas es de \" + str(resultado1) + \"%\")\n",
    "print(\"La probabilidad de sacar las 5 bolas del mismo color es de \" + str(resultado2) + \"%\")"
   ]
  }
 ],
 "metadata": {
  "kernelspec": {
   "display_name": "Python 3",
   "language": "python",
   "name": "python3"
  },
  "language_info": {
   "codemirror_mode": {
    "name": "ipython",
    "version": 3
   },
   "file_extension": ".py",
   "mimetype": "text/x-python",
   "name": "python",
   "nbconvert_exporter": "python",
   "pygments_lexer": "ipython3",
   "version": "3.11.4"
  }
 },
 "nbformat": 4,
 "nbformat_minor": 5
}
