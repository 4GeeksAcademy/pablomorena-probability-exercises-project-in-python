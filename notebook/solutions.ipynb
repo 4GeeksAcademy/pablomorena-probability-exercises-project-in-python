{
 "cells": [
  {
   "cell_type": "markdown",
   "id": "a41f3622",
   "metadata": {},
   "source": [
    "# Solutions"
   ]
  },
  {
   "cell_type": "markdown",
   "id": "a6bdbd89",
   "metadata": {},
   "source": [
    "## Exercise 1 "
   ]
  },
  {
   "cell_type": "code",
   "execution_count": null,
   "id": "8939d892",
   "metadata": {},
   "outputs": [
    {
     "name": "stdout",
     "output_type": "stream",
     "text": [
      "The probability of rolling an even number or greater than 7 is: 66.8%\n"
     ]
    }
   ],
   "source": [
    "import random\n",
    "import numpy as np\n",
    "\n",
    "def roll_the_dice(n_simulations = 1000):\n",
    "    count = 0\n",
    "    \n",
    "    # Each iteration of the for loop is a trial\n",
    "    for i in range(n_simulations):\n",
    "        \n",
    "        # Roll each dice\n",
    "        die1 = random.randint(1, 6)\n",
    "        die2 = random.randint(1, 6)\n",
    "        \n",
    "        # Sum the values to get the score\n",
    "        score = die1 + die2\n",
    "        \n",
    "        # Decide if we should add it to the count:\n",
    "        if (score % 2 == 0) or (score > 7):\n",
    "            count += 1\n",
    "\n",
    "    # Calculate probability\n",
    "    return count / n_simulations\n",
    "\n",
    "print(f\"The probability of rolling an even number or greater than 7 is: {np.round(roll_the_dice() * 100, 2)}%\")"
   ]
  },
  {
   "cell_type": "markdown",
   "id": "55732bca",
   "metadata": {},
   "source": [
    "## Exercise 2"
   ]
  },
  {
   "cell_type": "code",
   "execution_count": null,
   "id": "d9b7e024",
   "metadata": {},
   "outputs": [
    {
     "ename": "KeyboardInterrupt",
     "evalue": "",
     "output_type": "error",
     "traceback": [
      "\u001b[31m---------------------------------------------------------------------------\u001b[39m",
      "\u001b[31mKeyboardInterrupt\u001b[39m                         Traceback (most recent call last)",
      "\u001b[36mFile \u001b[39m\u001b[32m~/.local/lib/python3.11/site-packages/IPython/core/async_helpers.py:128\u001b[39m, in \u001b[36m_pseudo_sync_runner\u001b[39m\u001b[34m(coro)\u001b[39m\n\u001b[32m    120\u001b[39m \u001b[38;5;250m\u001b[39m\u001b[33;03m\"\"\"\u001b[39;00m\n\u001b[32m    121\u001b[39m \u001b[33;03mA runner that does not really allow async execution, and just advance the coroutine.\u001b[39;00m\n\u001b[32m    122\u001b[39m \n\u001b[32m   (...)\u001b[39m\u001b[32m    125\u001b[39m \u001b[33;03mCredit to Nathaniel Smith\u001b[39;00m\n\u001b[32m    126\u001b[39m \u001b[33;03m\"\"\"\u001b[39;00m\n\u001b[32m    127\u001b[39m \u001b[38;5;28;01mtry\u001b[39;00m:\n\u001b[32m--> \u001b[39m\u001b[32m128\u001b[39m     \u001b[43mcoro\u001b[49m\u001b[43m.\u001b[49m\u001b[43msend\u001b[49m\u001b[43m(\u001b[49m\u001b[38;5;28;43;01mNone\u001b[39;49;00m\u001b[43m)\u001b[49m\n\u001b[32m    129\u001b[39m \u001b[38;5;28;01mexcept\u001b[39;00m \u001b[38;5;167;01mStopIteration\u001b[39;00m \u001b[38;5;28;01mas\u001b[39;00m exc:\n\u001b[32m    130\u001b[39m     \u001b[38;5;28;01mreturn\u001b[39;00m exc.value\n",
      "\u001b[36mFile \u001b[39m\u001b[32m~/.local/lib/python3.11/site-packages/IPython/core/interactiveshell.py:3273\u001b[39m, in \u001b[36mInteractiveShell.run_cell_async\u001b[39m\u001b[34m(self, raw_cell, store_history, silent, shell_futures, transformed_cell, preprocessing_exc_tuple, cell_id)\u001b[39m\n\u001b[32m   3270\u001b[39m compiler = \u001b[38;5;28mself\u001b[39m.compile \u001b[38;5;28;01mif\u001b[39;00m shell_futures \u001b[38;5;28;01melse\u001b[39;00m \u001b[38;5;28mself\u001b[39m.compiler_class()\n\u001b[32m   3272\u001b[39m \u001b[38;5;28;01mwith\u001b[39;00m \u001b[38;5;28mself\u001b[39m.builtin_trap:\n\u001b[32m-> \u001b[39m\u001b[32m3273\u001b[39m     cell_name = \u001b[43mcompiler\u001b[49m\u001b[43m.\u001b[49m\u001b[43mcache\u001b[49m\u001b[43m(\u001b[49m\u001b[43mcell\u001b[49m\u001b[43m,\u001b[49m\u001b[43m \u001b[49m\u001b[38;5;28;43mself\u001b[39;49m\u001b[43m.\u001b[49m\u001b[43mexecution_count\u001b[49m\u001b[43m,\u001b[49m\u001b[43m \u001b[49m\u001b[43mraw_code\u001b[49m\u001b[43m=\u001b[49m\u001b[43mraw_cell\u001b[49m\u001b[43m)\u001b[49m\n\u001b[32m   3275\u001b[39m     \u001b[38;5;28;01mwith\u001b[39;00m \u001b[38;5;28mself\u001b[39m.display_trap:\n\u001b[32m   3276\u001b[39m         \u001b[38;5;66;03m# Compile to bytecode\u001b[39;00m\n\u001b[32m   3277\u001b[39m         \u001b[38;5;28;01mtry\u001b[39;00m:\n",
      "\u001b[36mFile \u001b[39m\u001b[32m~/.local/lib/python3.11/site-packages/IPython/core/compilerop.py:155\u001b[39m, in \u001b[36mCachingCompiler.cache\u001b[39m\u001b[34m(self, transformed_code, number, raw_code)\u001b[39m\n\u001b[32m    152\u001b[39m \u001b[38;5;28;01mif\u001b[39;00m raw_code \u001b[38;5;129;01mis\u001b[39;00m \u001b[38;5;28;01mNone\u001b[39;00m:\n\u001b[32m    153\u001b[39m     raw_code = transformed_code\n\u001b[32m--> \u001b[39m\u001b[32m155\u001b[39m name = \u001b[38;5;28;43mself\u001b[39;49m\u001b[43m.\u001b[49m\u001b[43mget_code_name\u001b[49m\u001b[43m(\u001b[49m\u001b[43mraw_code\u001b[49m\u001b[43m,\u001b[49m\u001b[43m \u001b[49m\u001b[43mtransformed_code\u001b[49m\u001b[43m,\u001b[49m\u001b[43m \u001b[49m\u001b[43mnumber\u001b[49m\u001b[43m)\u001b[49m\n\u001b[32m    157\u001b[39m \u001b[38;5;66;03m# Save the execution count\u001b[39;00m\n\u001b[32m    158\u001b[39m \u001b[38;5;28mself\u001b[39m._filename_map[name] = number\n",
      "\u001b[36mFile \u001b[39m\u001b[32m~/.local/lib/python3.11/site-packages/ipykernel/compiler.py:105\u001b[39m, in \u001b[36mXCachingCompiler.get_code_name\u001b[39m\u001b[34m(self, raw_code, code, number)\u001b[39m\n\u001b[32m    103\u001b[39m \u001b[38;5;28;01mdef\u001b[39;00m\u001b[38;5;250m \u001b[39m\u001b[34mget_code_name\u001b[39m(\u001b[38;5;28mself\u001b[39m, raw_code, code, number):\n\u001b[32m    104\u001b[39m \u001b[38;5;250m    \u001b[39m\u001b[33;03m\"\"\"Get the code name.\"\"\"\u001b[39;00m\n\u001b[32m--> \u001b[39m\u001b[32m105\u001b[39m     \u001b[38;5;28;01mreturn\u001b[39;00m \u001b[43mget_file_name\u001b[49m\u001b[43m(\u001b[49m\u001b[43mraw_code\u001b[49m\u001b[43m)\u001b[49m\n",
      "\u001b[36mFile \u001b[39m\u001b[32m~/.local/lib/python3.11/site-packages/ipykernel/compiler.py:90\u001b[39m, in \u001b[36mget_file_name\u001b[39m\u001b[34m(code)\u001b[39m\n\u001b[32m     88\u001b[39m cell_name = os.environ.get(\u001b[33m\"\u001b[39m\u001b[33mIPYKERNEL_CELL_NAME\u001b[39m\u001b[33m\"\u001b[39m)\n\u001b[32m     89\u001b[39m \u001b[38;5;28;01mif\u001b[39;00m cell_name \u001b[38;5;129;01mis\u001b[39;00m \u001b[38;5;28;01mNone\u001b[39;00m:\n\u001b[32m---> \u001b[39m\u001b[32m90\u001b[39m     name = \u001b[43mmurmur2_x86\u001b[49m\u001b[43m(\u001b[49m\u001b[43mcode\u001b[49m\u001b[43m,\u001b[49m\u001b[43m \u001b[49m\u001b[43mget_tmp_hash_seed\u001b[49m\u001b[43m(\u001b[49m\u001b[43m)\u001b[49m\u001b[43m)\u001b[49m\n\u001b[32m     91\u001b[39m     cell_name = get_tmp_directory() + os.sep + \u001b[38;5;28mstr\u001b[39m(name) + \u001b[33m\"\u001b[39m\u001b[33m.py\u001b[39m\u001b[33m\"\u001b[39m\n\u001b[32m     92\u001b[39m \u001b[38;5;28;01mreturn\u001b[39;00m cell_name\n",
      "\u001b[36mFile \u001b[39m\u001b[32m~/.local/lib/python3.11/site-packages/ipykernel/compiler.py:20\u001b[39m, in \u001b[36mmurmur2_x86\u001b[39m\u001b[34m(data, seed)\u001b[39m\n\u001b[32m     15\u001b[39m rounded_end = length & \u001b[32m0xFFFFFFFC\u001b[39m\n\u001b[32m     16\u001b[39m \u001b[38;5;28;01mfor\u001b[39;00m i \u001b[38;5;129;01min\u001b[39;00m \u001b[38;5;28mrange\u001b[39m(\u001b[32m0\u001b[39m, rounded_end, \u001b[32m4\u001b[39m):\n\u001b[32m     17\u001b[39m     k = (\n\u001b[32m     18\u001b[39m         (\u001b[38;5;28mord\u001b[39m(data[i]) & \u001b[32m0xFF\u001b[39m)\n\u001b[32m     19\u001b[39m         | ((\u001b[38;5;28mord\u001b[39m(data[i + \u001b[32m1\u001b[39m]) & \u001b[32m0xFF\u001b[39m) << \u001b[32m8\u001b[39m)\n\u001b[32m---> \u001b[39m\u001b[32m20\u001b[39m         | ((\u001b[38;5;28mord\u001b[39m(data[i + \u001b[32m2\u001b[39m]) & \u001b[32m0xFF\u001b[39m) << \u001b[32m16\u001b[39m)\n\u001b[32m     21\u001b[39m         | (\u001b[38;5;28mord\u001b[39m(data[i + \u001b[32m3\u001b[39m]) << \u001b[32m24\u001b[39m)\n\u001b[32m     22\u001b[39m     )\n\u001b[32m     23\u001b[39m     k = (k * m) & \u001b[32m0xFFFFFFFF\u001b[39m\n\u001b[32m     24\u001b[39m     k ^= k >> \u001b[32m24\u001b[39m\n",
      "\u001b[31mKeyboardInterrupt\u001b[39m: "
     ]
    }
   ],
   "source": [
    "import numpy as np\n",
    "\n",
    "ball_box = {}\n",
    "\n",
    "# Create the box of balls\n",
    "for i in range(60):\n",
    "    if i < 10:\n",
    "        ball_box[i] = \"White\"\n",
    "    elif (i > 9) and (i < 30):\n",
    "        ball_box[i] = \"Red\"\n",
    "    else:\n",
    "        ball_box[i] = \"Green\"\n",
    "\n",
    "print(ball_box)\n",
    "            \n",
    "def take_balls(n_simulations = 1000):\n",
    "    count_1 = 0\n",
    "    count_2 = 0\n",
    "\n",
    "    for i in range(n_simulations):\n",
    "        colors = []\n",
    "\n",
    "        # Take 5 balls from the box\n",
    "        for i in range(5):\n",
    "            colors.append(ball_box[np.random.randint(0, 59)])\n",
    "\n",
    "        # Convert list to Numpy array for better filtering\n",
    "        colors = np.array(colors)\n",
    "        \n",
    "        white_balls = sum(colors == \"White\")\n",
    "        red_balls = sum(colors == \"Red\")\n",
    "        green_balls = sum(colors == \"Green\")\n",
    "\n",
    "        # Decide if we should add it to the count:\n",
    "        if (white_balls == 3) and (red_balls == 2):\n",
    "            count_1 += 1\n",
    "        \n",
    "        if (white_balls == 5) or (red_balls == 5) or (green_balls == 5):\n",
    "            count_2 += 1\n",
    "    \n",
    "    return count_1 / n_simulations, count_2 / n_simulations\n",
    "\n",
    "probabilities = take_balls(1000)\n",
    "\n",
    "print(f\"The probability of 3 white and 2 red is: {np.round(probabilities[0] * 100, 2)}%\")\n",
    "print(f\"The probability of all the same color is: {np.round(probabilities[1] * 100, 2)}%\")"
   ]
  }
 ],
 "metadata": {
  "kernelspec": {
   "display_name": "Python 3",
   "language": "python",
   "name": "python3"
  },
  "language_info": {
   "codemirror_mode": {
    "name": "ipython",
    "version": 3
   },
   "file_extension": ".py",
   "mimetype": "text/x-python",
   "name": "python",
   "nbconvert_exporter": "python",
   "pygments_lexer": "ipython3",
   "version": "3.11.4"
  }
 },
 "nbformat": 4,
 "nbformat_minor": 5
}
